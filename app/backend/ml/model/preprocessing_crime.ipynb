{
 "cells": [
  {
   "cell_type": "code",
   "execution_count": 5,
   "metadata": {},
   "outputs": [],
   "source": [
    "import pandas as pd\n",
    "import matplotlib as plt\n",
    "import rasterio\n",
    "import numpy as np"
   ]
  },
  {
   "attachments": {},
   "cell_type": "markdown",
   "metadata": {},
   "source": [
    "Crime data loading"
   ]
  },
  {
   "cell_type": "code",
   "execution_count": null,
   "metadata": {},
   "outputs": [],
   "source": [
    "df = pd.read_csv(\"C:/Users/User/PycharmProjects/SafeRoute/NYPD_Arrests_Data__Historic_.csv\") # TODO change to relative path\n",
    "df = df.replace('(null)', np.nan)\n",
    "df = df.replace('nan', np.nan)\n",
    "df = df.dropna(axis=0)\n",
    "df"
   ]
  },
  {
   "attachments": {},
   "cell_type": "markdown",
   "metadata": {},
   "source": [
    "ALL OFFENCE DESCRIPTION"
   ]
  },
  {
   "cell_type": "code",
   "execution_count": 6,
   "metadata": {},
   "outputs": [
    {
     "data": {
      "text/plain": [
       "['CRIMINAL MISCHIEF & RELATED OF',\n",
       " 'VEHICLE AND TRAFFIC LAWS',\n",
       " 'AGRICULTURE & MRKTS LAW-UNCLASSIFIED',\n",
       " 'POSSESSION OF STOLEN PROPERTY',\n",
       " 'CANNABIS RELATED OFFENSES',\n",
       " 'OTHER STATE LAWS',\n",
       " 'OFFENSES INVOLVING FRAUD',\n",
       " \"BURGLAR'S TOOLS\",\n",
       " 'HARASSMENT',\n",
       " 'DISRUPTION OF A RELIGIOUS SERVICE',\n",
       " 'THEFT OF SERVICES',\n",
       " 'HARRASSMENT 2',\n",
       " 'ESCAPE 3',\n",
       " 'DISRUPTION OF A RELIGIOUS SERV',\n",
       " 'KIDNAPPING AND RELATED OFFENSES',\n",
       " 'OFFENSES AGAINST THE PERSON',\n",
       " 'FRAUDS',\n",
       " 'FORGERY',\n",
       " 'LOITERING/GAMBLING (CARDS, DICE, ETC)',\n",
       " 'HOMICIDE-NEGLIGENT,UNCLASSIFIE',\n",
       " 'ADMINISTRATIVE CODES',\n",
       " 'ARSON',\n",
       " 'CHILD ABANDONMENT/NON SUPPORT',\n",
       " 'THEFT-FRAUD',\n",
       " 'FRAUDULENT ACCOSTING',\n",
       " 'OFFENSES RELATED TO CHILDREN',\n",
       " 'MISCELLANEOUS PENAL LAW',\n",
       " 'ALCOHOLIC BEVERAGE CONTROL LAW',\n",
       " 'KIDNAPPING & RELATED OFFENSES',\n",
       " 'ANTICIPATORY OFFENSES',\n",
       " 'OFFENSES AGAINST PUBLIC ADMINI',\n",
       " 'JOSTLING',\n",
       " 'FORCIBLE TOUCHING',\n",
       " 'MOVING INFRACTIONS',\n",
       " 'ENDAN WELFARE INCOMP',\n",
       " 'ABORTION',\n",
       " 'KIDNAPPING',\n",
       " 'CHILD ABANDONMENT/NON SUPPORT 1',\n",
       " 'DANGEROUS DRUGS',\n",
       " 'GRAND LARCENY',\n",
       " 'NYS LAWS-UNCLASSIFIED VIOLATION',\n",
       " 'ROBBERY',\n",
       " 'ASSAULT 3 & RELATED OFFENSES',\n",
       " 'UNLAWFUL POSS. WEAP. ON SCHOOL GROUNDS',\n",
       " 'LOITERING FOR DRUG PURPOSES',\n",
       " 'CRIMINAL MISCHIEF & RELATED OFFENSES',\n",
       " 'PETIT LARCENY',\n",
       " 'LOITERING',\n",
       " 'F.C.A. P.I.N.O.S.',\n",
       " 'HOMICIDE-NEGLIGENT-VEHICLE',\n",
       " 'ADMINISTRATIVE CODE',\n",
       " 'FORTUNE TELLING',\n",
       " 'OFF. AGNST PUB ORD SENSBLTY &',\n",
       " 'UNLAWFUL POSS. WEAP. ON SCHOOL',\n",
       " 'CRIMINAL TRESPASS',\n",
       " 'OTHER STATE LAWS (NON PENAL LA',\n",
       " 'UNAUTHORIZED USE OF A VEHICLE',\n",
       " 'BURGLARY',\n",
       " 'OFF. AGNST PUB ORD SENSBLTY & RGHTS TO PRIV',\n",
       " 'UNAUTHORIZED USE OF A VEHICLE 3 (UUV)',\n",
       " 'DANGEROUS WEAPONS',\n",
       " 'MURDER & NON-NEGL. MANSLAUGHTE',\n",
       " 'OFFENSES AGAINST MARRIAGE UNCLASSIFIED',\n",
       " 'OTHER OFFENSES RELATED TO THEF',\n",
       " 'NYS LAWS-UNCLASSIFIED FELONY',\n",
       " 'UNDER THE INFLUENCE, DRUGS',\n",
       " 'OFFENSES AGAINST PUBLIC ADMINISTRATION',\n",
       " 'FELONY ASSAULT',\n",
       " 'INTOXICATED & IMPAIRED DRIVING',\n",
       " 'NEW YORK CITY HEALTH CODE',\n",
       " 'HOMICIDE-NEGLIGENT,UNCLASSIFIED',\n",
       " 'DISORDERLY CONDUCT',\n",
       " 'GRAND LARCENY OF MOTOR VEHICLE',\n",
       " 'OTHER TRAFFIC INFRACTION',\n",
       " 'FELONY SEX CRIMES',\n",
       " 'OTHER OFFENSES RELATED TO THEFT',\n",
       " 'LOITERING,BEGGING',\n",
       " 'SEX CRIMES',\n",
       " 'PARKING OFFENSES',\n",
       " 'OFFENSES AGAINST PUBLIC SAFETY',\n",
       " 'MURDER & NON-NEGL. MANSLAUGHTER',\n",
       " 'OTHER STATE LAWS (NON PENAL LAW)',\n",
       " 'POSSESSION OF STOLEN PROPERTY 5',\n",
       " 'RAPE',\n",
       " 'PROSTITUTION & RELATED OFFENSES',\n",
       " 'INTOXICATED/IMPAIRED DRIVING',\n",
       " 'GAMBLING',\n",
       " 'LOITERING/GAMBLING (CARDS, DIC']"
      ]
     },
     "execution_count": 6,
     "metadata": {},
     "output_type": "execute_result"
    }
   ],
   "source": [
    "# np.unique(np.array())\n",
    "list(set(df['OFNS_DESC']))"
   ]
  },
  {
   "attachments": {},
   "cell_type": "markdown",
   "metadata": {},
   "source": [
    "ASSIGNING ARBITRARY DANGER VALUES FOR CRIME"
   ]
  },
  {
   "cell_type": "code",
   "execution_count": null,
   "metadata": {},
   "outputs": [],
   "source": [
    "danger_scores = {\n",
    "    'HOMICIDE-NEGLIGENT,UNCLASSIFIED': 10,\n",
    "    'SEX CRIMES': 9,\n",
    "    'GRAND LARCENY': 3,\n",
    "    'ROBBERY': 8,\n",
    "    'UNLAWFUL POSS. WEAP. ON SCHOOL GROUNDS': 6,\n",
    "    'KIDNAPPING & RELATED OFFENSES': 9,\n",
    "    'BURGLARY': 6,\n",
    "    'DANGEROUS DRUGS': 5,\n",
    "    'FRAUDS': 2,\n",
    "    'RAPE': 12,\n",
    "    'FELONY SEX CRIMES': 10,\n",
    "    'ASSAULT 3 & RELATED OFFENSES': 8,\n",
    "    'UNAUTHORIZED USE OF A VEHICLE 3 (UUV)': 4,\n",
    "    'FELONY ASSAULT': 9,\n",
    "    'MURDER & NON-NEGL. MANSLAUGHTER': 15,\n",
    "    'THEFT-FRAUD': 3,\n",
    "    'PETIT LARCENY': 2\n",
    "}"
   ]
  },
  {
   "attachments": {},
   "cell_type": "markdown",
   "metadata": {},
   "source": [
    "FORMING NEW DATAFRAME"
   ]
  },
  {
   "cell_type": "code",
   "execution_count": null,
   "metadata": {},
   "outputs": [],
   "source": [
    "new_df = df.loc[df['OFNS_DESC'].isin(danger_scores.keys()), ['ARREST_DATE', 'Latitude', 'Longitude']]\n",
    "new_df"
   ]
  },
  {
   "cell_type": "code",
   "execution_count": null,
   "metadata": {},
   "outputs": [],
   "source": [
    "new_df['Danger Score'] = df.loc[df['OFNS_DESC'].isin(danger_scores.keys()), 'OFNS_DESC'].map(danger_scores)\n",
    "new_df"
   ]
  },
  {
   "cell_type": "code",
   "execution_count": null,
   "metadata": {},
   "outputs": [],
   "source": [
    "new_df.sort_values(by=['Longitude'])"
   ]
  },
  {
   "cell_type": "code",
   "execution_count": null,
   "metadata": {},
   "outputs": [],
   "source": [
    "(new_df['Latitude'].min(), new_df['Latitude'].max(), new_df['Longitude'].min(), new_df['Longitude'].max())"
   ]
  },
  {
   "attachments": {},
   "cell_type": "markdown",
   "metadata": {},
   "source": [
    "OPENING CLUSTERED GEOTIF POPULATION FILE"
   ]
  },
  {
   "cell_type": "code",
   "execution_count": null,
   "metadata": {},
   "outputs": [],
   "source": [
    "with rasterio.open(\"C:/Users/User/PycharmProjects/SafeRoute/clustered.tif\") as src:\n",
    "    data = src.read()\n",
    "    image = src.read(1)\n",
    "    clusters = src.read(2)\n",
    "    bounds = src.bounds\n",
    "    "
   ]
  },
  {
   "cell_type": "code",
   "execution_count": null,
   "metadata": {},
   "outputs": [],
   "source": [
    "bounds"
   ]
  },
  {
   "cell_type": "code",
   "execution_count": null,
   "metadata": {},
   "outputs": [],
   "source": [
    "(abs(bounds[2] - bounds[0]), abs(bounds[3] - bounds[1]))"
   ]
  },
  {
   "cell_type": "code",
   "execution_count": null,
   "metadata": {},
   "outputs": [],
   "source": [
    "step = (abs(bounds[2] - bounds[0])/np.shape(clusters)[1] + abs(bounds[3] - bounds[1])/np.shape(clusters)[0]) / 2\n",
    "step"
   ]
  },
  {
   "attachments": {},
   "cell_type": "markdown",
   "metadata": {},
   "source": [
    "COUNTING POPULATION PER CLUSTER"
   ]
  },
  {
   "cell_type": "code",
   "execution_count": null,
   "metadata": {},
   "outputs": [],
   "source": [
    "pop_dict = {c: [] for c in np.unique(clusters)}\n",
    "pop_count = {c: 0 for c in np.unique(clusters)}\n",
    "for iy, ix in np.ndindex(image.shape):\n",
    "    ap = image[iy, ix] if image[iy, ix] > 0 else 0\n",
    "    pop_dict[clusters[iy, ix]].append(ap)\n",
    "for k, v in pop_dict.items():\n",
    "    pop_count[k] = sum(pop_dict[k])/len(pop_dict[k]) if len(pop_dict[k]) > 0 else 0\n",
    "pop_count"
   ]
  },
  {
   "cell_type": "code",
   "execution_count": null,
   "metadata": {},
   "outputs": [],
   "source": [
    "cluster_score = {c: 0 for c in np.unique(clusters)}\n",
    "cluster_crime_num = {c: 0 for c in np.unique(clusters)}\n",
    "cluster_score"
   ]
  },
  {
   "attachments": {},
   "cell_type": "markdown",
   "metadata": {},
   "source": [
    "CALCULATING CRIME NUMBER AND SCORE PER CLUSTER"
   ]
  },
  {
   "cell_type": "code",
   "execution_count": null,
   "metadata": {},
   "outputs": [],
   "source": [
    "for row in new_df.itertuples():\n",
    "    p = (row.Longitude, row.Latitude) # point declaration\n",
    "    if abs(p[0])>abs(bounds[0]) or abs(p[0])<abs(bounds[2]): \n",
    "        continue\n",
    "    elif abs(p[1])<abs(bounds[1]) or abs(p[1])>abs(bounds[3]): \n",
    "        continue\n",
    "    cluster_score[clusters[round((abs(p[1]) - abs(bounds[1]))/step) - 1, round((abs(p[0]) - abs(bounds[2]))/step) - 1]] += row._4\n",
    "    cluster_crime_num[clusters[round((abs(p[1]) - abs(bounds[1]))/step) - 1, round((abs(p[0]) - abs(bounds[2]))/step) - 1]] += 1"
   ]
  },
  {
   "cell_type": "code",
   "execution_count": null,
   "metadata": {},
   "outputs": [],
   "source": [
    "cluster_score"
   ]
  },
  {
   "cell_type": "code",
   "execution_count": null,
   "metadata": {},
   "outputs": [],
   "source": [
    "cluster_score[-1] = 0\n",
    "cluster_crime_num[-1] = 0\n",
    "cluster_score"
   ]
  },
  {
   "attachments": {},
   "cell_type": "markdown",
   "metadata": {},
   "source": [
    "FINDING AREA PER CLUSTER"
   ]
  },
  {
   "cell_type": "code",
   "execution_count": null,
   "metadata": {},
   "outputs": [],
   "source": [
    "cluster_area = {c: (np.count_nonzero(clusters == c))*100 for c in np.unique(clusters)}\n",
    "cluster_area"
   ]
  },
  {
   "cell_type": "code",
   "execution_count": null,
   "metadata": {},
   "outputs": [],
   "source": [
    "for k, v in cluster_score.items():\n",
    "    cluster_score[k] = v/cluster_area[k]\n",
    "    cluster_crime_num[k] = cluster_crime_num[k]/cluster_area[k]\n",
    "\n",
    "cluster_score"
   ]
  },
  {
   "cell_type": "code",
   "execution_count": null,
   "metadata": {},
   "outputs": [],
   "source": [
    "fin_df = pd.DataFrame({\"pop_count_adj\": pop_count ,'crime_number_adj': cluster_crime_num, 'crime_score_adj': cluster_score})\n",
    "fin_df.to_csv('crime_score.csv', index_label='cluster')\n",
    "fin_df"
   ]
  },
  {
   "attachments": {},
   "cell_type": "markdown",
   "metadata": {},
   "source": [
    "MERGING DATAFRAMES FOR FINAL FILE"
   ]
  },
  {
   "cell_type": "code",
   "execution_count": null,
   "metadata": {},
   "outputs": [],
   "source": [
    "df1 = pd.read_csv('crime_score.csv')\n",
    "df2 = pd.read_csv('average_income.csv')\n",
    "merged_df = pd.merge(df1, df2, on='cluster', how='outer')\n",
    "merged_df.to_csv('all_data.csv', index=False)\n"
   ]
  },
  {
   "attachments": {},
   "cell_type": "markdown",
   "metadata": {},
   "source": [
    "ADJUSTING INCOME"
   ]
  },
  {
   "cell_type": "code",
   "execution_count": null,
   "metadata": {},
   "outputs": [],
   "source": [
    "edited_df = merged_df[(merged_df != 0).all(axis=1)]\n",
    "i_l = edited_df['income'].tolist()\n",
    "pop_list = edited_df['pop_count_adj'].tolist()\n",
    "crime_list = edited_df['crime_score_adj'].tolist()"
   ]
  },
  {
   "cell_type": "code",
   "execution_count": null,
   "metadata": {},
   "outputs": [],
   "source": [
    "v_min = min([value for value in i_l if value >= 1000])\n",
    "v_max = max([value for value in i_l if value >= 1000])\n",
    "for i in range(len(i_l)):\n",
    "    i_l[i] = ((i_l[i] - v_min) if v_min < i_l[i] else 0)\n",
    "    i_l[i] = i_l[i]/v_max"
   ]
  },
  {
   "cell_type": "code",
   "execution_count": null,
   "metadata": {},
   "outputs": [],
   "source": [
    "v_max = max(pop_list)\n",
    "for i in range(len(pop_list)):\n",
    "    pop_list[i] = pop_list[i]/v_max"
   ]
  },
  {
   "cell_type": "code",
   "execution_count": null,
   "metadata": {},
   "outputs": [],
   "source": [
    "v_max = max(crime_list)\n",
    "v_min = min(crime_list)\n",
    "for i in range(len(crime_list)):\n",
    "    crime_list[i] = (crime_list[i] - v_min)/v_max"
   ]
  },
  {
   "cell_type": "code",
   "execution_count": null,
   "metadata": {},
   "outputs": [],
   "source": [
    "edited_df['income'] = i_l\n",
    "edited_df['pop_count_adj'] = pop_list\n",
    "edited_df['crime_score_adj'] = pop_list\n",
    "edited_df.to_csv('edited_data.csv', index=False)"
   ]
  },
  {
   "cell_type": "code",
   "execution_count": null,
   "metadata": {},
   "outputs": [],
   "source": [
    "df666 = pd.read_csv('edited_data.csv')\n",
    "df666"
   ]
  }
 ],
 "metadata": {
  "kernelspec": {
   "display_name": "venv",
   "language": "python",
   "name": "python3"
  },
  "language_info": {
   "codemirror_mode": {
    "name": "ipython",
    "version": 3
   },
   "file_extension": ".py",
   "mimetype": "text/x-python",
   "name": "python",
   "nbconvert_exporter": "python",
   "pygments_lexer": "ipython3",
   "version": "3.10.6"
  },
  "orig_nbformat": 4
 },
 "nbformat": 4,
 "nbformat_minor": 2
}
