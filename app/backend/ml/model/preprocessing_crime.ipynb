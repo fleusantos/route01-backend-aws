{
 "cells": [
  {
   "cell_type": "code",
   "execution_count": null,
   "metadata": {},
   "outputs": [],
   "source": [
    "import pandas as pd\n",
    "import matplotlib as plt\n",
    "import rasterio\n",
    "import numpy as np"
   ]
  },
  {
   "cell_type": "code",
   "execution_count": null,
   "metadata": {},
   "outputs": [],
   "source": [
    "df = pd.read_csv(\"C:/Users/User/PycharmProjects/SafeRoute/NYPD_Arrests_Data__Historic_.csv\")\n",
    "df = df.replace('(null)', np.nan)\n",
    "df = df.replace('nan', np.nan)\n",
    "df = df.dropna(axis=0)\n",
    "df"
   ]
  },
  {
   "cell_type": "code",
   "execution_count": null,
   "metadata": {},
   "outputs": [],
   "source": [
    "# np.unique(np.array())\n",
    "list(set(df['OFNS_DESC']))"
   ]
  },
  {
   "cell_type": "code",
   "execution_count": null,
   "metadata": {},
   "outputs": [],
   "source": [
    "danger_scores = {\n",
    "    'HOMICIDE-NEGLIGENT,UNCLASSIFIED': 10,\n",
    "    'SEX CRIMES': 9,\n",
    "    'GRAND LARCENY': 3,\n",
    "    'ROBBERY': 8,\n",
    "    'UNLAWFUL POSS. WEAP. ON SCHOOL GROUNDS': 6,\n",
    "    'KIDNAPPING & RELATED OFFENSES': 9,\n",
    "    'BURGLARY': 6,\n",
    "    'DANGEROUS DRUGS': 5,\n",
    "    'FRAUDS': 2,\n",
    "    'RAPE': 12,\n",
    "    'FELONY SEX CRIMES': 10,\n",
    "    'ASSAULT 3 & RELATED OFFENSES': 8,\n",
    "    'UNAUTHORIZED USE OF A VEHICLE 3 (UUV)': 4,\n",
    "    'FELONY ASSAULT': 9,\n",
    "    'MURDER & NON-NEGL. MANSLAUGHTER': 15,\n",
    "    'THEFT-FRAUD': 3,\n",
    "    'PETIT LARCENY': 2\n",
    "}"
   ]
  },
  {
   "cell_type": "code",
   "execution_count": null,
   "metadata": {},
   "outputs": [],
   "source": [
    "new_df = df.loc[df['OFNS_DESC'].isin(danger_scores.keys()), ['ARREST_DATE', 'Latitude', 'Longitude']]\n",
    "new_df"
   ]
  },
  {
   "cell_type": "code",
   "execution_count": null,
   "metadata": {},
   "outputs": [],
   "source": [
    "new_df['Danger Score'] = df.loc[df['OFNS_DESC'].isin(danger_scores.keys()), 'OFNS_DESC'].map(danger_scores)\n",
    "new_df"
   ]
  },
  {
   "cell_type": "code",
   "execution_count": null,
   "metadata": {},
   "outputs": [],
   "source": [
    "new_df.sort_values(by=['Longitude'])"
   ]
  },
  {
   "cell_type": "code",
   "execution_count": null,
   "metadata": {},
   "outputs": [],
   "source": [
    "(new_df['Latitude'].min(), new_df['Latitude'].max(), new_df['Longitude'].min(), new_df['Longitude'].max())"
   ]
  },
  {
   "cell_type": "code",
   "execution_count": null,
   "metadata": {},
   "outputs": [],
   "source": []
  },
  {
   "cell_type": "code",
   "execution_count": null,
   "metadata": {},
   "outputs": [],
   "source": [
    "with rasterio.open(\"C:/Users/User/PycharmProjects/SafeRoute/clustered.tif\") as src:\n",
    "    data = src.read()\n",
    "    image = src.read(1)\n",
    "    clusters = src.read(2)\n",
    "    bounds = src.bounds\n",
    "    "
   ]
  },
  {
   "cell_type": "code",
   "execution_count": null,
   "metadata": {},
   "outputs": [],
   "source": [
    "bounds"
   ]
  },
  {
   "cell_type": "code",
   "execution_count": null,
   "metadata": {},
   "outputs": [],
   "source": [
    "(abs(bounds[2] - bounds[0]), abs(bounds[3] - bounds[1]))"
   ]
  },
  {
   "cell_type": "code",
   "execution_count": null,
   "metadata": {},
   "outputs": [],
   "source": [
    "step = (abs(bounds[2] - bounds[0])/np.shape(clusters)[1] + abs(bounds[3] - bounds[1])/np.shape(clusters)[0]) / 2\n",
    "step"
   ]
  },
  {
   "cell_type": "code",
   "execution_count": null,
   "metadata": {},
   "outputs": [],
   "source": [
    "pop_dict = {c: [] for c in np.unique(clusters)}\n",
    "pop_count = {c: 0 for c in np.unique(clusters)}\n",
    "for iy, ix in np.ndindex(image.shape):\n",
    "    ap = image[iy, ix] if image[iy, ix] > 0 else 0\n",
    "    pop_dict[clusters[iy, ix]].append(ap)\n",
    "for k, v in pop_dict.items():\n",
    "    pop_count[k] = sum(pop_dict[k])/len(pop_dict[k]) if len(pop_dict[k]) > 0 else 0\n",
    "pop_count"
   ]
  },
  {
   "cell_type": "code",
   "execution_count": null,
   "metadata": {},
   "outputs": [],
   "source": [
    "cluster_score = {c: 0 for c in np.unique(clusters)}\n",
    "cluster_crime_num = {c: 0 for c in np.unique(clusters)}\n",
    "cluster_score"
   ]
  },
  {
   "cell_type": "code",
   "execution_count": null,
   "metadata": {},
   "outputs": [],
   "source": [
    "for row in new_df.itertuples():\n",
    "    p = (row.Longitude, row.Latitude) # point declaration\n",
    "    if abs(p[0])>abs(bounds[0]) or abs(p[0])<abs(bounds[2]): \n",
    "        continue\n",
    "    elif abs(p[1])<abs(bounds[1]) or abs(p[1])>abs(bounds[3]): \n",
    "        continue\n",
    "    cluster_score[clusters[round((abs(p[1]) - abs(bounds[1]))/step) - 1, round((abs(p[0]) - abs(bounds[2]))/step) - 1]] += row._4\n",
    "    cluster_crime_num[clusters[round((abs(p[1]) - abs(bounds[1]))/step) - 1, round((abs(p[0]) - abs(bounds[2]))/step) - 1]] += 1"
   ]
  },
  {
   "cell_type": "code",
   "execution_count": null,
   "metadata": {},
   "outputs": [],
   "source": [
    "cluster_score"
   ]
  },
  {
   "cell_type": "code",
   "execution_count": null,
   "metadata": {},
   "outputs": [],
   "source": [
    "cluster_score[-1] = 0\n",
    "cluster_crime_num[-1] = 0\n",
    "cluster_score"
   ]
  },
  {
   "cell_type": "code",
   "execution_count": null,
   "metadata": {},
   "outputs": [],
   "source": [
    "cluster_area = {c: (np.count_nonzero(clusters == c))*100 for c in np.unique(clusters)}\n",
    "cluster_area"
   ]
  },
  {
   "cell_type": "code",
   "execution_count": null,
   "metadata": {},
   "outputs": [],
   "source": [
    "for k, v in cluster_score.items():\n",
    "    cluster_score[k] = v/cluster_area[k]\n",
    "    cluster_crime_num[k] = cluster_crime_num[k]/cluster_area[k]\n",
    "\n",
    "cluster_score"
   ]
  },
  {
   "cell_type": "code",
   "execution_count": null,
   "metadata": {},
   "outputs": [],
   "source": [
    "fin_df = pd.DataFrame({\"pop_count_adj\": pop_count ,'crime_number_adj': cluster_crime_num, 'crime_score_adj': cluster_score})\n",
    "fin_df.to_csv('crime_score.csv', index_label='cluster')\n",
    "fin_df"
   ]
  },
  {
   "cell_type": "code",
   "execution_count": null,
   "metadata": {},
   "outputs": [],
   "source": [
    "df1 = pd.read_csv('crime_score.csv')\n",
    "df2 = pd.read_csv('average_income.csv')\n",
    "merged_df = pd.merge(df1, df2, on='cluster', how='outer')\n",
    "merged_df.to_csv('all_data.csv', index=False)\n",
    "edited_df = merged_df[(merged_df != 0).all(axis=1)]\n",
    "edited_df.to_csv('edited_data.csv', index=False)"
   ]
  },
  {
   "cell_type": "code",
   "execution_count": null,
   "metadata": {},
   "outputs": [],
   "source": [
    "df666 = pd.read_csv('edited_data.csv')\n",
    "df666"
   ]
  }
 ],
 "metadata": {
  "kernelspec": {
   "display_name": "venv",
   "language": "python",
   "name": "python3"
  },
  "language_info": {
   "codemirror_mode": {
    "name": "ipython",
    "version": 3
   },
   "file_extension": ".py",
   "mimetype": "text/x-python",
   "name": "python",
   "nbconvert_exporter": "python",
   "pygments_lexer": "ipython3",
   "version": "3.10.6"
  },
  "orig_nbformat": 4
 },
 "nbformat": 4,
 "nbformat_minor": 2
}
