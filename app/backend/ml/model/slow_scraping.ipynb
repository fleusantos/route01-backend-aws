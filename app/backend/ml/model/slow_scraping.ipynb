{
 "cells": [
  {
   "cell_type": "code",
   "execution_count": null,
   "metadata": {},
   "outputs": [],
   "source": [
    "import requests\n",
    "import geojson\n",
    "import aiohttp\n",
    "import asyncio\n",
    "from geocodio import GeocodioClient\n",
    "\n",
    "import pandas as pd\n",
    "import matplotlib as plt\n",
    "import rasterio\n",
    "from rasterio import features\n",
    "import numpy as np\n",
    "\n",
    "from dotenv import load_dotenv\n",
    "import os"
   ]
  },
  {
   "attachments": {},
   "cell_type": "markdown",
   "metadata": {},
   "source": [
    "CALCULATING CENTER FOR EACH CLUSTER"
   ]
  },
  {
   "cell_type": "code",
   "execution_count": null,
   "metadata": {},
   "outputs": [],
   "source": [
    "from shapely.geometry import Polygon, MultiPolygon\n",
    "from shapely.ops import cascaded_union\n",
    "\n",
    "def get_polygons_center(clustered_tif_path):\n",
    "    with rasterio.open(clustered_tif_path) as src:\n",
    "        data = src.read()\n",
    "        image = src.read(1)\n",
    "        global clusters\n",
    "        clusters = src.read(2)\n",
    "\n",
    "    class_vals = set(clusters.flatten()) - {-1}\n",
    "    centers = []\n",
    "    pcords = []\n",
    "    manual_centers = []\n",
    "    for class_val in class_vals:\n",
    "        mask = clusters == class_val\n",
    "        shapes = features.shapes(mask.astype('uint8'), transform=src.transform)\n",
    "        local_mc = []\n",
    "        polygons = []\n",
    "        for polygon, value in shapes:\n",
    "            polygons.append(Polygon(polygon['coordinates'][0]))\n",
    "            mc = [0,0]\n",
    "            mc[1] = sum([i[0] for i in polygon['coordinates'][0]])/len(polygon['coordinates'][0])\n",
    "            mc[0] = sum([i[1] for i in polygon['coordinates'][0]])/len(polygon['coordinates'][0])\n",
    "            local_mc.append(tuple(mc))\n",
    "            pcords.append(polygon['coordinates'][0])\n",
    "        manual_centers.append(tuple(sum(coords)/len(coords) for coords in zip(*local_mc)))\n",
    "        multipolygon = MultiPolygon(polygons)\n",
    "        center_pixel = multipolygon.centroid\n",
    "        center_realworld = rasterio.transform.xy(src.transform, center_pixel.x, center_pixel.y)\n",
    "        centers.append((center_realworld[1], center_realworld[0]))\n",
    "    return manual_centers\n"
   ]
  },
  {
   "cell_type": "code",
   "execution_count": null,
   "metadata": {},
   "outputs": [],
   "source": [
    "centers = get_polygons_center(\"C:/Users/User/PycharmProjects/SafeRoute/clustered.tif\")# TODO use relative path\n",
    "len(centers)"
   ]
  },
  {
   "cell_type": "code",
   "execution_count": null,
   "metadata": {},
   "outputs": [],
   "source": [
    "min(centers)"
   ]
  },
  {
   "cell_type": "code",
   "execution_count": null,
   "metadata": {},
   "outputs": [],
   "source": [
    "max(centers)"
   ]
  },
  {
   "cell_type": "code",
   "execution_count": null,
   "metadata": {},
   "outputs": [],
   "source": [
    "load_dotenv()"
   ]
  },
  {
   "attachments": {},
   "cell_type": "markdown",
   "metadata": {},
   "source": [
    "REQUESTING DATA FROM GEOCODIO"
   ]
  },
  {
   "cell_type": "code",
   "execution_count": null,
   "metadata": {},
   "outputs": [],
   "source": [
    "gr = GeocodioClient(os.getenv(\"GEOCODE_API_KEY\"))\n",
    "address_sets = gr.reverse(centers, fields = [\"acs-economics\"])"
   ]
  },
  {
   "cell_type": "code",
   "execution_count": null,
   "metadata": {},
   "outputs": [],
   "source": [
    "address_sets[0]"
   ]
  },
  {
   "cell_type": "code",
   "execution_count": null,
   "metadata": {},
   "outputs": [],
   "source": [
    "household_income = address_sets[2]['results'][0]['fields']['acs']['economics']['Median household income']['Total']['value']\n",
    "household_income"
   ]
  },
  {
   "cell_type": "code",
   "execution_count": null,
   "metadata": {},
   "outputs": [],
   "source": [
    "print([address_sets[0]['results'][i]['location']['lat'] for i in range(len(address_sets[0]['results']))])\n",
    "print([address_sets[0]['results'][i]['location']['lng'] for i in range(len(address_sets[0]['results']))])\n",
    "print(centers[0])"
   ]
  },
  {
   "cell_type": "code",
   "execution_count": null,
   "metadata": {},
   "outputs": [],
   "source": [
    "cords = []\n",
    "for result in address_sets:\n",
    "    if result['results']:\n",
    "        # check is for keyerror due to bad data.(value if exists else 0)\n",
    "        income_list = [result['results'][i]['fields']['acs']['economics']['Median household income']['Total']['value'] \n",
    "                       if result['results'][i]['fields']['acs']['economics']['Median household income'].get('Total', 0) \n",
    "                       else 0 for i in range(len(result['results']))]\n",
    "        income = sum(list(filter(lambda x: x != 0, income_list)))/len(income_list)\n",
    "        cords.append(income)"
   ]
  },
  {
   "attachments": {},
   "cell_type": "markdown",
   "metadata": {},
   "source": [
    "GETTING CLUSTER SCORE FOR EACH CLUSTER FROM REQUESTED DATA"
   ]
  },
  {
   "cell_type": "code",
   "execution_count": null,
   "metadata": {},
   "outputs": [],
   "source": [
    "cluster_score = {c: 0 for c in np.unique(clusters)}\n",
    "for i in range(0, len(cluster_score)-1):\n",
    "    cluster_score[i] = int(cords[i])\n",
    "cluster_score"
   ]
  },
  {
   "attachments": {},
   "cell_type": "markdown",
   "metadata": {},
   "source": [
    "SAVING NORMAL DATAFRAME"
   ]
  },
  {
   "cell_type": "code",
   "execution_count": null,
   "metadata": {},
   "outputs": [],
   "source": [
    "df = pd.DataFrame(list(cluster_score.items()), columns=[\"cluster\", \"income\"])\n",
    "df.to_csv('average_income.csv', index=False)\n",
    "df"
   ]
  }
 ],
 "metadata": {
  "kernelspec": {
   "display_name": "venv",
   "language": "python",
   "name": "python3"
  },
  "language_info": {
   "codemirror_mode": {
    "name": "ipython",
    "version": 3
   },
   "file_extension": ".py",
   "mimetype": "text/x-python",
   "name": "python",
   "nbconvert_exporter": "python",
   "pygments_lexer": "ipython3",
   "version": "3.10.6"
  },
  "orig_nbformat": 4
 },
 "nbformat": 4,
 "nbformat_minor": 2
}
