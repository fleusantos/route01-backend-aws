{
 "cells": [
  {
   "cell_type": "code",
   "execution_count": null,
   "metadata": {},
   "outputs": [],
   "source": [
    "import rasterio\n",
    "import numpy as np\n",
    "from sklearn.cluster import KMeans, DBSCAN\n",
    "import hdbscan"
   ]
  },
  {
   "cell_type": "code",
   "execution_count": null,
   "metadata": {},
   "outputs": [],
   "source": [
    "with rasterio.open('C:/Users/User/PycharmProjects/SafeRoute/cropped.tif') as src:\n",
    "    data = src.read()\n",
    "    image = src.read(1)\n",
    "    cols, rows = np.meshgrid(np.arange(image.shape[1]), np.arange(image.shape[0]))\n",
    "    xs, ys = rasterio.transform.xy(src.transform, rows, cols)\n",
    "    x = np.array(xs)\n",
    "    x = (x-np.min(x))/(np.max(x)-np.min(x))\n",
    "    y = np.array(ys)\n",
    "    y = (y-np.min(y))/(np.max(y)-np.min(y))\n",
    "    profile = src.profile\n",
    "\n",
    "pixels = image.reshape(-1, 1)\n",
    "pixels = np.clip(pixels, 0.5, pixels.max())\n",
    "pixels = pixels/np.max(pixels)\n",
    "print(pixels)"
   ]
  },
  {
   "cell_type": "code",
   "execution_count": null,
   "metadata": {},
   "outputs": [],
   "source": [
    "data_points = []\n",
    "\n",
    "for i in range(image.shape[0]):\n",
    "    # Iterate through each column in the current row\n",
    "    for j in range(image.shape[1]):\n",
    "        data_points.append([x[i, j]*2, y[i, j]*2, image[i, j]])\n",
    "\n",
    "data_points"
   ]
  },
  {
   "cell_type": "code",
   "execution_count": null,
   "metadata": {},
   "outputs": [],
   "source": [
    "# with rasterio.open('C:/Users/User/PycharmProjects/SafeRoute/cropped.tif') as src:\n",
    "#     image = src.read()\n",
    "\n",
    "# pixels = image.reshape(image.shape[0], -1).T\n"
   ]
  },
  {
   "cell_type": "code",
   "execution_count": null,
   "metadata": {},
   "outputs": [],
   "source": [
    "print(image.shape)"
   ]
  },
  {
   "cell_type": "code",
   "execution_count": null,
   "metadata": {},
   "outputs": [],
   "source": [
    "# clstr = KMeans(50).fit(data_points)\n",
    "# clstr = DBSCAN(eps=3,min_samples=500).fit(data_points)\n",
    "\n",
    "# from multiprocessing import set_start_method, get_context\n",
    "# set_start_method('spawn')\n",
    "\n",
    "clusterer = hdbscan.HDBSCAN(min_cluster_size=50)\n",
    "clstr= clusterer.fit_predict(data_points)"
   ]
  },
  {
   "cell_type": "code",
   "execution_count": null,
   "metadata": {},
   "outputs": [],
   "source": [
    "np.shape(clstr)\n",
    "#removed.labels_ for hdbscan"
   ]
  },
  {
   "cell_type": "code",
   "execution_count": null,
   "metadata": {},
   "outputs": [],
   "source": [
    "unique_vals, counts = np.unique(clstr, return_counts=True)\n",
    "#removed.labels_ for hdbscan\n",
    "print(dict(zip(unique_vals, counts)))"
   ]
  },
  {
   "cell_type": "code",
   "execution_count": null,
   "metadata": {},
   "outputs": [],
   "source": [
    "labels = clstr.reshape(image.shape[0], image.shape[1])\n",
    "#removed.labels_ for hdbscan\n",
    "np.shape(labels)"
   ]
  },
  {
   "cell_type": "code",
   "execution_count": null,
   "metadata": {},
   "outputs": [],
   "source": [
    "with rasterio.open('C:/Users/User/PycharmProjects/SafeRoute/clustered.tif', 'w+', driver='GTiff', width=image.shape[1], height=image.shape[0], count=2, dtype=labels.dtype, crs=src.crs, transform=src.transform) as dst:\n",
    "    dst.write(image,1)\n",
    "    # Write the cluster labels to a new band\n",
    "    dst.write(labels,2)\n",
    "\n",
    "# with rasterio.open('C:/Users/User/PycharmProjects/SafeRoute/clustered3.tif', 'w', driver='GTiff', width=image.shape[2], height=image.shape[1], count=1, dtype=np.uint8) as dst:\n",
    "#     dst.write(labels_2d.astype(np.uint8), 1)\n"
   ]
  },
  {
   "cell_type": "code",
   "execution_count": null,
   "metadata": {},
   "outputs": [],
   "source": []
  }
 ],
 "metadata": {
  "kernelspec": {
   "display_name": "venv",
   "language": "python",
   "name": "python3"
  },
  "language_info": {
   "codemirror_mode": {
    "name": "ipython",
    "version": 3
   },
   "file_extension": ".py",
   "mimetype": "text/x-python",
   "name": "python",
   "nbconvert_exporter": "python",
   "pygments_lexer": "ipython3",
   "version": "3.10.6"
  },
  "orig_nbformat": 4
 },
 "nbformat": 4,
 "nbformat_minor": 2
}
