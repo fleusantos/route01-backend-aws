{
 "cells": [
  {
   "cell_type": "code",
   "execution_count": null,
   "metadata": {},
   "outputs": [],
   "source": [
    "import rasterio\n",
    "from rasterio.plot import show\n",
    "import numpy as np\n",
    "import matplotlib.pyplot as plt\n",
    "\n",
    "from rasterio.windows import from_bounds\n",
    "from rasterio.enums import Resampling"
   ]
  },
  {
   "cell_type": "code",
   "execution_count": null,
   "metadata": {},
   "outputs": [],
   "source": [
    "import rasterio\n",
    "from rasterio.windows import from_bounds\n",
    "import matplotlib.pyplot as plt\n",
    "\n",
    "with rasterio.open(\"C:/Users/User/PycharmProjects/SafeRoute/pop_data_small.tif\") as src:\n",
    "    win = from_bounds(-77.1, 40.2, -72.7, 39.0, src.transform)\n",
    "    bounds = src.window_bounds(win)\n",
    "    resolution = src.res\n",
    "    img = src.read(window=win)\n",
    "\n",
    "# Reshape the image data\n",
    "img = img.transpose(1, 2, 0)\n",
    "\n",
    "plt.imshow(img)\n",
    "plt.show()"
   ]
  },
  {
   "cell_type": "code",
   "execution_count": null,
   "metadata": {},
   "outputs": [],
   "source": [
    "with rasterio.open(\"C:/Users/User/PycharmProjects/SafeRoute/clustered3.tif\") as src:\n",
    "    # win = from_bounds(-74.5, 40.2, -72.7, 41.2, src.transform)\n",
    "    # bounds = src.window_bounds(win)\n",
    "    # resolution = src.res\n",
    "    cls1 = src.read()\n",
    "    labels = src.read(2)\n",
    "    d = {}\n",
    "    for i, row in enumerate(src.read(1)):\n",
    "        for j, val in enumerate(row):\n",
    "            if val not in d.keys():\n",
    "                d[val] = 0 \n",
    "            else:\n",
    "                d[val] += 1\n",
    "            # Print the cluster assignment for each pixel\n",
    "            # d[val] = 0 if val not in d.keys else d[val]+1\n",
    "    print(len(d))\n",
    "    print(d)\n",
    "    \n",
    "    \n",
    "\n",
    "with rasterio.open(\"C:/Users/User/PycharmProjects/SafeRoute/clustered2.tif\") as src:\n",
    "    # win = from_bounds(-74.5, 40.2, -72.7, 41.2, src.transform)\n",
    "    # bounds = src.window_bounds(win)\n",
    "    # resolution = src.res\n",
    "    cls2 = src.read()"
   ]
  },
  {
   "attachments": {},
   "cell_type": "markdown",
   "metadata": {},
   "source": [
    "LOWER MAP RESOLUTION"
   ]
  },
  {
   "cell_type": "code",
   "execution_count": null,
   "metadata": {},
   "outputs": [],
   "source": [
    "import rasterio\n",
    "from rasterio.windows import from_bounds\n",
    "from rasterio.enums import Resampling\n",
    "\n",
    "with rasterio.open(\"C:/Users/User/PycharmProjects/SafeRoute/usa_ppp_2020.tif\") as src:\n",
    "    win = from_bounds(-90, 30, -68, 44, src.transform)\n",
    "   \n",
    "    # Define the desired resolution in meters (e.g., 1 km)\n",
    "    target_resolution = 1000  # 1 pixel per 1 kilometer\n",
    "\n",
    "\n",
    "    x_res = src.transform.a * 120 * 1000\n",
    "    y_res = src.transform.e * 120 * 1000\n",
    "    target_width = abs(int(win.width * (x_res / target_resolution)))\n",
    "    target_height = abs(int(win.height * (y_res / target_resolution)))\n",
    "\n",
    "    # Create an empty array for the resampled data\n",
    "    resampled_data = src.read(1, window=win, out_shape=(1, target_height, target_width))\n",
    "\n",
    "    # Update the transformation matrix\n",
    "    meta = src.meta.copy()\n",
    "    print()\n",
    "    meta.update({\n",
    "        'height': target_height,\n",
    "        'width': target_width,\n",
    "        'dtype': resampled_data.dtype,\n",
    "        'compress': 'deflate',\n",
    "        'compress_opts': {'level': 9},\n",
    "        'bounds': rasterio.windows.bounds(win, src.transform)\n",
    "    })\n",
    "    meta['transform'] = rasterio.transform.from_bounds(*rasterio.windows.bounds(win, src.transform), width=target_width, height=target_height)\n",
    "    with rasterio.open('C:/Users/User/PycharmProjects/SafeRoute/pop_data_small.tif', 'w', **meta) as dst:\n",
    "        dst.write(resampled_data, 1)"
   ]
  },
  {
   "cell_type": "code",
   "execution_count": null,
   "metadata": {},
   "outputs": [],
   "source": [
    "with rasterio.open(\"C:/Users/User/PycharmProjects/SafeRoute/pop_data_small.tif\") as src:\n",
    "    # win = from_bounds(-74.5, 40.2, -72.7, 41.2, src.transform)\n",
    "    # bounds = src.window_bounds(win)\n",
    "    # resolution = src.res\n",
    "    cls4 = src.read()\n",
    "    print(src.bounds)\n",
    "show(cls4)"
   ]
  },
  {
   "cell_type": "code",
   "execution_count": null,
   "metadata": {},
   "outputs": [],
   "source": [
    "with rasterio.open(\"C:/Users/User/PycharmProjects/SafeRoute/pop_data_small.tif\") as src:\n",
    "    win = from_bounds(-74.5, 40.2, -72.7, 41.2, src.transform)\n",
    "    bounds = src.window_bounds(win)\n",
    "    resolution = src.res\n",
    "    cls5 = src.read()\n",
    "    print(src.bounds)\n",
    "show(cls5)"
   ]
  },
  {
   "cell_type": "code",
   "execution_count": null,
   "metadata": {},
   "outputs": [],
   "source": [
    "np.shape(img)"
   ]
  },
  {
   "cell_type": "code",
   "execution_count": null,
   "metadata": {},
   "outputs": [],
   "source": [
    "show(labels)"
   ]
  },
  {
   "cell_type": "code",
   "execution_count": null,
   "metadata": {},
   "outputs": [],
   "source": [
    "print(labels)"
   ]
  },
  {
   "cell_type": "code",
   "execution_count": null,
   "metadata": {},
   "outputs": [],
   "source": [
    "show(cls2)"
   ]
  },
  {
   "cell_type": "code",
   "execution_count": null,
   "metadata": {},
   "outputs": [],
   "source": [
    "import rasterio\n",
    "from rasterio.plot import show\n",
    "\n",
    "with rasterio.open(\"C:/Users/User/PycharmProjects/SafeRoute/clustered3.tif\") as src:\n",
    "    cls1 = src.read()\n",
    "    show((src, 1), cmap='viridis')\n",
    "    \n"
   ]
  },
  {
   "cell_type": "code",
   "execution_count": null,
   "metadata": {},
   "outputs": [],
   "source": [
    "import matplotlib.pyplot as plt\n",
    "import rasterio\n",
    "\n",
    "# Open the raster file\n",
    "with rasterio.open(\"C:/Users/User/PycharmProjects/SafeRoute/clustered3.tif\") as src:\n",
    "    data = src.read()\n",
    "    cluster_labels = src.read(2)\n",
    "\n",
    "# Define the number of clusters to display and the size of each subplot\n",
    "n_clusters = 50\n",
    "subplot_size = 2\n",
    "\n",
    "# Create a new figure and axis object for each subplot\n",
    "fig, axs = plt.subplots(nrows=10, ncols=5, figsize=(subplot_size * 5, subplot_size * 10))\n",
    "\n",
    "# Flatten the axis array to iterate over it\n",
    "axs = axs.flatten()\n",
    "\n",
    "# Loop over the clusters and plot each one in a separate subplot\n",
    "for i in range(n_clusters):\n",
    "    # Create a binary mask for the current cluster\n",
    "    mask = cluster_labels == i\n",
    "    \n",
    "    # Plot the mask in the current subplot\n",
    "    axs[i].imshow(mask, cmap='gray')\n",
    "    \n",
    "    # Set the subplot title to the cluster label\n",
    "    axs[i].set_title(f'Cluster {i}')\n",
    "    \n",
    "    # Remove the x and y tick labels for clarity\n",
    "    axs[i].set_xticks([])\n",
    "    axs[i].set_yticks([])\n",
    "    \n",
    "# Adjust the spacing between the subplots\n",
    "plt.subplots_adjust(hspace=0.1, wspace=0.1)\n",
    "\n",
    "# Show the figure\n",
    "plt.show()\n"
   ]
  },
  {
   "cell_type": "code",
   "execution_count": null,
   "metadata": {},
   "outputs": [],
   "source": []
  }
 ],
 "metadata": {
  "kernelspec": {
   "display_name": "venv",
   "language": "python",
   "name": "python3"
  },
  "language_info": {
   "codemirror_mode": {
    "name": "ipython",
    "version": 3
   },
   "file_extension": ".py",
   "mimetype": "text/x-python",
   "name": "python",
   "nbconvert_exporter": "python",
   "pygments_lexer": "ipython3",
   "version": "3.10.6"
  },
  "orig_nbformat": 4
 },
 "nbformat": 4,
 "nbformat_minor": 2
}
